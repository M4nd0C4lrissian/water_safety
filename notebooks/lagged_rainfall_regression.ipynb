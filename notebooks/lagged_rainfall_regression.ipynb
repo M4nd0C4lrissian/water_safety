{
 "cells": [
  {
   "cell_type": "code",
   "execution_count": null,
   "metadata": {},
   "outputs": [],
   "source": [
    "import pandas as pd\n",
    "import sklearn.linear_model as skl\n",
    "\n",
    "# 1. Load merged 2009 data\n",
    "df_2009 = pd.read_parquet(\"../data/merged/merged_2009.parquet\")\n",
    "\n",
    "# 2. Create lagged features on-the-fly\n",
    "for lag in [1, 2, 3, 5, 7]:  # Only create lags you'll actually use\n",
    "    df_2009[f'precip_lag_{lag}d'] = df_2009['Total Precip (mm)'].shift(lag)\n",
    "\n",
    "# 3. Drop rows with missing lagged values\n",
    "df_2009 = df_2009.dropna(subset=['precip_lag_7d'])  # Ensures full lookback window\n",
    "\n",
    "# 4. Run regression\n",
    "\n",
    "X = df_2009[['precip_lag_1d', 'precip_lag_3d', 'precip_lag_7d']]\n",
    "y = df_2009['e_coli_ppm']\n",
    "\n",
    "model = skl.LinearRegression().fit(X, y)\n",
    "print(f\"R-squared: {model.score(X, y):.2f}\")"
   ]
  }
 ],
 "metadata": {
  "language_info": {
   "name": "python"
  }
 },
 "nbformat": 4,
 "nbformat_minor": 2
}
