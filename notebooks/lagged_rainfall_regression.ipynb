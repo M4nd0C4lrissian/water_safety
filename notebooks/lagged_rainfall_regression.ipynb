{
 "cells": [
  {
   "cell_type": "markdown",
   "metadata": {},
   "source": [
    "Feature engineering"
   ]
  },
  {
   "cell_type": "code",
   "execution_count": 12,
   "metadata": {},
   "outputs": [
    {
     "name": "stdout",
     "output_type": "stream",
     "text": [
      "<class 'pandas.core.frame.DataFrame'>\n",
      "DatetimeIndex: 96 entries, 2009-05-31 to 2009-09-06\n",
      "Data columns (total 7 columns):\n",
      " #   Column                  Non-Null Count  Dtype  \n",
      "---  ------                  --------------  -----  \n",
      " 0   beach_id                96 non-null     float64\n",
      " 1   beach_name              96 non-null     object \n",
      " 2   e_coli_cfu              96 non-null     float64\n",
      " 3   water_quality_advisory  96 non-null     object \n",
      " 4   safety_status           96 non-null     object \n",
      " 5   station_name            96 non-null     object \n",
      " 6   precip_mm               96 non-null     float64\n",
      "dtypes: float64(3), object(4)\n",
      "memory usage: 6.0+ KB\n"
     ]
    }
   ],
   "source": [
    "# Load merged 2009 data\n",
    "df_2009 = pd.read_parquet(\"../data/merged/merged_2009.parquet\")\n",
    "df_2009.info()"
   ]
  },
  {
   "cell_type": "code",
   "execution_count": 16,
   "metadata": {},
   "outputs": [
    {
     "name": "stdout",
     "output_type": "stream",
     "text": [
      "Current Index: date\n",
      "Columns: ['beach_id', 'beach_name', 'e_coli_cfu', 'water_quality_advisory', 'safety_status', 'station_name', 'precip_mm']\n",
      "Final columns: ['beach_id', 'beach_name', 'e_coli_cfu', 'water_quality_advisory', 'safety_status', 'station_name', 'precip_mm', 'is_weekend', 'day_of_year', 'sin_doy', 'precip_lag_1d', 'precip_lag_2d', 'precip_lag_3d', 'precip_lag_5d', 'precip_lag_7d', 'e_coli_lag1d', 'e_coli_lag3d', 'e_coli_lag7d']\n"
     ]
    }
   ],
   "source": [
    "import pandas as pd\n",
    "import numpy as np\n",
    "\n",
    "# Load merged 2009 data (datetime index assumed)\n",
    "df_2009 = pd.read_parquet(\"../data/merged/merged_2009.parquet\")\n",
    "\n",
    "# --- Verify Structure ---\n",
    "print(\"Current Index:\", df_2009.index.name)  # Should be 'date' or similar\n",
    "print(\"Columns:\", df_2009.columns.tolist())\n",
    "\n",
    "# --- Temporal Features ---\n",
    "# 1. Weekend indicator\n",
    "df_2009['is_weekend'] = df_2009.index.dayofweek.isin([5, 6]).astype(int)\n",
    "\n",
    "# 2. Seasonal features\n",
    "df_2009['day_of_year'] = df_2009.index.dayofyear\n",
    "df_2009['sin_doy'] = np.sin(2 * np.pi * df_2009['day_of_year'] / 365)\n",
    "\n",
    "# --- Precipitation Lags --- \n",
    "for lag in [1, 2, 3, 5, 7]:\n",
    "    df_2009[f'precip_lag_{lag}d'] = df_2009['precip_mm'].shift(lag)\n",
    "\n",
    "# --- Temperature Features ---\n",
    "temp_cols = [c for c in df_2009.columns if 'temp' in c.lower()]  # Auto-detect\n",
    "for temp_col in temp_cols[:3]:  # Use first 3 temp columns if many exist\n",
    "    for lag in [1, 2]:\n",
    "        df_2009[f'{temp_col}_lag{lag}d'] = df_2009[temp_col].shift(lag)\n",
    "\n",
    "# --- E. coli Persistence ---\n",
    "for lag in [1, 3, 7]:\n",
    "    df_2009[f'e_coli_lag{lag}d'] = df_2009['e_coli_cfu'].shift(lag)\n",
    "\n",
    "# --- Interaction Terms ---\n",
    "if 'precip_lag_2d' in df_2009 and 'air_temp_avg_lag1d' in df_2009:\n",
    "    df_2009['precip_x_temp'] = df_2009['precip_lag_2d'] * df_2009['air_temp_avg_lag1d']\n",
    "\n",
    "# --- Drop NA ---\n",
    "lag_cols = [c for c in df_2009.columns if 'lag' in c]\n",
    "df_2009 = df_2009.dropna(subset=lag_cols)\n",
    "\n",
    "print(\"Final columns:\", df_2009.columns.tolist())"
   ]
  },
  {
   "cell_type": "markdown",
   "metadata": {},
   "source": [
    "Statsmodels regression"
   ]
  },
  {
   "cell_type": "code",
   "execution_count": 17,
   "metadata": {},
   "outputs": [
    {
     "name": "stdout",
     "output_type": "stream",
     "text": [
      "                            OLS Regression Results                            \n",
      "==============================================================================\n",
      "Dep. Variable:             e_coli_cfu   R-squared:                       0.323\n",
      "Model:                            OLS   Adj. R-squared:                  0.216\n",
      "Method:                 Least Squares   F-statistic:                     3.024\n",
      "Date:                Sat, 05 Apr 2025   Prob (F-statistic):            0.00164\n",
      "Time:                        15:04:26   Log-Likelihood:                -428.15\n",
      "No. Observations:                  89   AIC:                             882.3\n",
      "Df Residuals:                      76   BIC:                             914.6\n",
      "Df Model:                          12                                         \n",
      "Covariance Type:            nonrobust                                         \n",
      "=================================================================================\n",
      "                    coef    std err          t      P>|t|      [0.025      0.975]\n",
      "---------------------------------------------------------------------------------\n",
      "const          -641.5271    332.257     -1.931      0.057   -1303.274      20.219\n",
      "precip_mm        -0.0141      0.486     -0.029      0.977      -0.981       0.953\n",
      "is_weekend       -8.6232      8.009     -1.077      0.285     -24.574       7.328\n",
      "day_of_year       3.6143      1.824      1.982      0.051      -0.018       7.247\n",
      "sin_doy         231.8128    119.840      1.934      0.057      -6.870     470.496\n",
      "precip_lag_1d    -0.1820      0.477     -0.381      0.704      -1.132       0.768\n",
      "precip_lag_2d     0.5671      0.480      1.181      0.241      -0.389       1.523\n",
      "precip_lag_3d     0.5273      0.480      1.099      0.275      -0.429       1.483\n",
      "precip_lag_5d    -0.3117      0.482     -0.647      0.520      -1.272       0.648\n",
      "precip_lag_7d    -0.1261      0.488     -0.259      0.797      -1.097       0.845\n",
      "e_coli_lag1d      0.3909      0.104      3.750      0.000       0.183       0.598\n",
      "e_coli_lag3d     -0.1358      0.106     -1.286      0.202      -0.346       0.074\n",
      "e_coli_lag7d     -0.1992      0.298     -0.669      0.506      -0.792       0.394\n",
      "==============================================================================\n",
      "Omnibus:                      134.805   Durbin-Watson:                   1.734\n",
      "Prob(Omnibus):                  0.000   Jarque-Bera (JB):             6087.519\n",
      "Skew:                           5.103   Prob(JB):                         0.00\n",
      "Kurtosis:                      42.210   Cond. No.                     2.16e+04\n",
      "==============================================================================\n",
      "\n",
      "Notes:\n",
      "[1] Standard Errors assume that the covariance matrix of the errors is correctly specified.\n",
      "[2] The condition number is large, 2.16e+04. This might indicate that there are\n",
      "strong multicollinearity or other numerical problems.\n",
      "\n",
      "=== Key Insights ===\n",
      "1. R-squared: 0.323 (Adj. 0.216)\n",
      "2. Most significant feature: e_coli_lag1d (p=0.000343)\n",
      "3. Feature coefficients:\n",
      "sin_doy          231.812828\n",
      "day_of_year        3.614310\n",
      "precip_lag_2d      0.567073\n",
      "precip_lag_3d      0.527274\n",
      "e_coli_lag1d       0.390876\n",
      "precip_mm         -0.014140\n",
      "precip_lag_7d     -0.126140\n",
      "e_coli_lag3d      -0.135812\n",
      "precip_lag_1d     -0.181975\n",
      "e_coli_lag7d      -0.199163\n",
      "precip_lag_5d     -0.311691\n",
      "is_weekend        -8.623235\n",
      "const           -641.527108\n",
      "dtype: float64\n"
     ]
    }
   ],
   "source": [
    "import statsmodels.api as sm\n",
    "\n",
    "# Prepare data (drop non-feature columns and NAs)\n",
    "regression_data = df_2009.drop(columns=[\n",
    "    'beach_id', 'beach_name', 'water_quality_advisory', \n",
    "    'safety_status', 'station_name'\n",
    "]).dropna()\n",
    "\n",
    "# Define predictors (X) and target (y)\n",
    "X = regression_data.drop(columns=['e_coli_cfu'])\n",
    "y = regression_data['e_coli_cfu']\n",
    "\n",
    "# Add constant for intercept term\n",
    "X = sm.add_constant(X)\n",
    "\n",
    "# Fit OLS regression\n",
    "model = sm.OLS(y, X).fit()\n",
    "\n",
    "# Print summary\n",
    "print(model.summary())\n",
    "\n",
    "# --- Diagnostic Checks ---\n",
    "print(\"\\n=== Key Insights ===\")\n",
    "print(f\"1. R-squared: {model.rsquared:.3f} (Adj. {model.rsquared_adj:.3f})\")\n",
    "print(f\"2. Most significant feature: {model.pvalues.idxmin()} (p={model.pvalues.min():.3g})\")\n",
    "print(\"3. Feature coefficients:\")\n",
    "print(model.params.sort_values(ascending=False))"
   ]
  }
 ],
 "metadata": {
  "kernelspec": {
   "display_name": "base",
   "language": "python",
   "name": "python3"
  },
  "language_info": {
   "codemirror_mode": {
    "name": "ipython",
    "version": 3
   },
   "file_extension": ".py",
   "mimetype": "text/x-python",
   "name": "python",
   "nbconvert_exporter": "python",
   "pygments_lexer": "ipython3",
   "version": "3.12.3"
  }
 },
 "nbformat": 4,
 "nbformat_minor": 2
}
