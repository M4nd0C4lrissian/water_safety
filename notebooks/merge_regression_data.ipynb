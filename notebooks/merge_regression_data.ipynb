{
 "cells": [
  {
   "cell_type": "markdown",
   "metadata": {},
   "source": [
    "Merging the e.coli and weather data "
   ]
  },
  {
   "cell_type": "markdown",
   "metadata": {},
   "source": [
    "Loading the data"
   ]
  },
  {
   "cell_type": "code",
   "execution_count": 2,
   "metadata": {},
   "outputs": [
    {
     "name": "stdout",
     "output_type": "stream",
     "text": [
      "(1567, 6)\n",
      "(6423, 3)\n"
     ]
    }
   ],
   "source": [
    "import pandas as pd\n",
    "\n",
    "# Load data\n",
    "beach_data = pd.read_parquet(\"..\\\\data\\\\cleaned\\\\cleaned_hanlans_point_beach.parquet\")\n",
    "weather_data = pd.read_parquet(\"..\\\\data\\\\cleaned\\\\cleaned_toronto_city.parquet\")\n",
    "\n",
    "print(beach_data.shape)\n",
    "print(weather_data.shape)\n",
    "\n"
   ]
  },
  {
   "cell_type": "markdown",
   "metadata": {},
   "source": [
    "Split beach data by year"
   ]
  },
  {
   "cell_type": "code",
   "execution_count": null,
   "metadata": {},
   "outputs": [],
   "source": []
  },
  {
   "cell_type": "markdown",
   "metadata": {},
   "source": [
    "Align data while keeping enough for lagged variables"
   ]
  },
  {
   "cell_type": "code",
   "execution_count": null,
   "metadata": {},
   "outputs": [],
   "source": [
    "# Get relevant date range from beach_data\n",
    "srt_date = beach_data['CollectionDate'].min() - pd.Timedelta(days=7) # Keep 7 days prior to start beach_data for lagged variables\n",
    "end_date = beach_data['CollectionDate'].max()\n",
    "\n",
    "print(f\"start date = {srt_date}\")\n",
    "print(f\"end date = {end_date}\")\n",
    "\n",
    "btwn_srt_end_dates = (weather_data['Date/Time'] >= srt_date) & (weather_data['Date/Time'] <= end_date)\n",
    "weather_data_filtered = weather_data.loc[btwn_srt_end_dates]\n",
    "\n",
    "print(weather_data_filtered.shape)"
   ]
  },
  {
   "cell_type": "markdown",
   "metadata": {},
   "source": [
    "Merge data"
   ]
  },
  {
   "cell_type": "code",
   "execution_count": null,
   "metadata": {},
   "outputs": [],
   "source": [
    "merged = beach_data.merge(\n",
    "    weather_data,\n",
    "    how=\"inner\",\n",
    "    left_index=True,\n",
    "    right_index=True\n",
    ")\n",
    "\n",
    "merged.info()"
   ]
  }
 ],
 "metadata": {
  "kernelspec": {
   "display_name": "base",
   "language": "python",
   "name": "python3"
  },
  "language_info": {
   "codemirror_mode": {
    "name": "ipython",
    "version": 3
   },
   "file_extension": ".py",
   "mimetype": "text/x-python",
   "name": "python",
   "nbconvert_exporter": "python",
   "pygments_lexer": "ipython3",
   "version": "3.12.3"
  }
 },
 "nbformat": 4,
 "nbformat_minor": 2
}
