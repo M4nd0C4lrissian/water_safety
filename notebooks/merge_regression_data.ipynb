{
 "cells": [
  {
   "cell_type": "markdown",
   "metadata": {},
   "source": [
    "Merging the e.coli and weather data "
   ]
  },
  {
   "cell_type": "markdown",
   "metadata": {},
   "source": [
    "Loading the data"
   ]
  },
  {
   "cell_type": "code",
   "execution_count": 24,
   "metadata": {},
   "outputs": [
    {
     "name": "stdout",
     "output_type": "stream",
     "text": [
      "(1567, 6)\n",
      "Index(['date', 'beach_id', 'beach_name', 'e_coli_cfu',\n",
      "       'water_quality_advisory', 'safety_status'],\n",
      "      dtype='object')\n",
      "(6423, 3)\n",
      "Index(['station_name', 'precip_mm', 'date'], dtype='object')\n",
      "<bound method NDFrame.head of            date  beach_id            beach_name  e_coli_cfu  \\\n",
      "5    2024-09-02       3.0  Hanlan's Point Beach       162.0   \n",
      "6    2024-09-01       3.0  Hanlan's Point Beach        25.0   \n",
      "7    2024-08-31       3.0  Hanlan's Point Beach        13.0   \n",
      "8    2024-08-30       3.0  Hanlan's Point Beach        26.0   \n",
      "9    2024-08-29       3.0  Hanlan's Point Beach        68.0   \n",
      "...         ...       ...                   ...         ...   \n",
      "1666 2008-08-27       3.0  Hanlan's Point Beach        23.0   \n",
      "1667 2008-08-26       3.0  Hanlan's Point Beach       159.0   \n",
      "1668 2008-08-25       3.0  Hanlan's Point Beach        70.0   \n",
      "1669 2008-08-24       3.0  Hanlan's Point Beach        10.0   \n",
      "1670 2008-08-23       3.0  Hanlan's Point Beach        10.0   \n",
      "\n",
      "                                 water_quality_advisory safety_status  \n",
      "5     E.coli levels exceed the City of Toronto's  es...        UNSAFE  \n",
      "6     E.coli levels are within the City of Toronto's...          SAFE  \n",
      "7     E.coli levels are within the City of Toronto's...          SAFE  \n",
      "8     E.coli levels are within the City of Toronto's...          SAFE  \n",
      "9     E.coli levels are within the City of Toronto's...          SAFE  \n",
      "...                                                 ...           ...  \n",
      "1666  Beach posted unsafe. E.coli levels above 100 p...        UNSAFE  \n",
      "1667  Beach posted unsafe. E.coli levels above 100 p...        UNSAFE  \n",
      "1668  Beach safe. E.coli levels at or below 100 per ...          SAFE  \n",
      "1669  Beach safe. E.coli levels at or below 100 per ...          SAFE  \n",
      "1670  Beach safe. E.coli levels at or below 100 per ...          SAFE  \n",
      "\n",
      "[1567 rows x 6 columns]>\n"
     ]
    }
   ],
   "source": [
    "import pandas as pd\n",
    "\n",
    "# Load data\n",
    "beach_data = pd.read_parquet(\"..\\\\data\\\\cleaned\\\\cleaned_hanlans_point_beach.parquet\")\n",
    "weather_data = pd.read_parquet(\"..\\\\data\\\\cleaned\\\\cleaned_toronto_city.parquet\")\n",
    "\n",
    "print(beach_data.shape)\n",
    "print(beach_data.columns)\n",
    "\n",
    "print(weather_data.shape)\n",
    "print(weather_data.columns)\n",
    "\n",
    "print(beach_data.head)\n"
   ]
  },
  {
   "cell_type": "markdown",
   "metadata": {},
   "source": [
    "Split beach data by year"
   ]
  },
  {
   "cell_type": "code",
   "execution_count": 23,
   "metadata": {},
   "outputs": [
    {
     "name": "stdout",
     "output_type": "stream",
     "text": [
      "dict_keys([2008, 2009, 2010, 2011, 2012, 2013, 2014, 2015, 2016, 2017, 2018, 2019, 2020, 2021, 2022, 2023, 2024])\n",
      "           date  beach_id            beach_name  e_coli_cfu  \\\n",
      "1563 2009-09-06       3.0  Hanlan's Point Beach        10.0   \n",
      "1564 2009-09-05       3.0  Hanlan's Point Beach        10.0   \n",
      "1565 2009-09-04       3.0  Hanlan's Point Beach        12.0   \n",
      "1566 2009-09-03       3.0  Hanlan's Point Beach        19.0   \n",
      "1567 2009-09-02       3.0  Hanlan's Point Beach        22.0   \n",
      "...         ...       ...                   ...         ...   \n",
      "1657 2009-06-04       3.0  Hanlan's Point Beach        10.0   \n",
      "1658 2009-06-03       3.0  Hanlan's Point Beach        11.0   \n",
      "1659 2009-06-02       3.0  Hanlan's Point Beach        11.0   \n",
      "1660 2009-06-01       3.0  Hanlan's Point Beach        10.0   \n",
      "1661 2009-05-31       3.0  Hanlan's Point Beach        10.0   \n",
      "\n",
      "                                 water_quality_advisory safety_status  \n",
      "1563  Beach safe. E.coli levels at or below 100 per ...          SAFE  \n",
      "1564  Beach safe. E.coli levels at or below 100 per ...          SAFE  \n",
      "1565  Beach safe. E.coli levels at or below 100 per ...          SAFE  \n",
      "1566  Beach safe. E.coli levels at or below 100 per ...          SAFE  \n",
      "1567  Beach safe. E.coli levels decreasing, weather ...          SAFE  \n",
      "...                                                 ...           ...  \n",
      "1657  Beach safe. E.coli levels at or below 100 per ...          SAFE  \n",
      "1658  Beach safe. E.coli levels at or below 100 per ...          SAFE  \n",
      "1659  Beach safe. E.coli levels at or below 100 per ...          SAFE  \n",
      "1660  Beach safe. E.coli levels at or below 100 per ...          SAFE  \n",
      "1661  Beach safe. E.coli levels at or below 100 per ...          SAFE  \n",
      "\n",
      "[96 rows x 6 columns]\n"
     ]
    }
   ],
   "source": [
    "annual_beach = {year: group for year, group in beach_data.groupby(beach_data['date'].dt.year)}\n",
    "\n",
    "print(annual_beach.keys())\n",
    "print(annual_beach[2009])"
   ]
  },
  {
   "cell_type": "markdown",
   "metadata": {},
   "source": [
    "Align weather data with 7-day lookback "
   ]
  },
  {
   "cell_type": "code",
   "execution_count": 22,
   "metadata": {},
   "outputs": [
    {
     "name": "stdout",
     "output_type": "stream",
     "text": [
      "2008: Weather from 2008-08-16 to 2008-08-31 (16 rows)\n",
      "2009: Weather from 2009-05-24 to 2009-09-06 (106 rows)\n",
      "2010: Weather from 2010-05-23 to 2010-09-07 (108 rows)\n",
      "2011: Weather from 2011-05-05 to 2011-09-05 (124 rows)\n",
      "2012: Weather from 2012-05-15 to 2012-09-03 (110 rows)\n",
      "2013: Weather from 2013-05-14 to 2013-09-02 (110 rows)\n",
      "2014: Weather from 2014-05-13 to 2014-09-01 (105 rows)\n",
      "2015: Weather from 2015-05-12 to 2015-09-07 (116 rows)\n",
      "2016: Weather from 2016-05-17 to 2016-09-06 (110 rows)\n",
      "2017: Weather from 2017-05-16 to 2017-09-04 (102 rows)\n",
      "2018: Weather from 2018-05-15 to 2018-09-03 (105 rows)\n",
      "2019: Weather from 2019-05-14 to 2019-09-01 (110 rows)\n",
      "2020: Weather from 2020-06-09 to 2020-09-07 (90 rows)\n",
      "2021: Weather from 2021-05-18 to 2021-09-06 (111 rows)\n",
      "2022: Weather from 2022-05-17 to 2022-09-05 (112 rows)\n",
      "2023: Weather from 2023-05-16 to 2023-09-10 (118 rows)\n",
      "2024: Weather from 2024-05-14 to 2024-09-02 (110 rows)\n"
     ]
    }
   ],
   "source": [
    "annual_weather = {}\n",
    "for year, beach_df in annual_beach.items():\n",
    "    # Calculate lookback window for THIS YEAR\n",
    "    start_date = beach_df['date'].min() - pd.Timedelta(days=7)  # 7-day lookback\n",
    "    end_date = beach_df['date'].max()\n",
    "    \n",
    "    # Filter weather data\n",
    "    mask = (weather_data['date'] >= start_date) & (weather_data['date'] <= end_date)\n",
    "    annual_weather[year] = weather_data.loc[mask].copy()\n",
    "    \n",
    "    print(f\"{year}: Weather from {start_date.date()} to {end_date.date()} ({len(annual_weather[year])} rows)\")"
   ]
  },
  {
   "cell_type": "markdown",
   "metadata": {},
   "source": [
    "Merge data"
   ]
  },
  {
   "cell_type": "code",
   "execution_count": null,
   "metadata": {},
   "outputs": [],
   "source": [
    "merged = beach_data.merge(\n",
    "    weather_data,\n",
    "    how=\"inner\",\n",
    "    left_index=True,\n",
    "    right_index=True\n",
    ")\n",
    "\n",
    "merged.info()"
   ]
  }
 ],
 "metadata": {
  "kernelspec": {
   "display_name": "base",
   "language": "python",
   "name": "python3"
  },
  "language_info": {
   "codemirror_mode": {
    "name": "ipython",
    "version": 3
   },
   "file_extension": ".py",
   "mimetype": "text/x-python",
   "name": "python",
   "nbconvert_exporter": "python",
   "pygments_lexer": "ipython3",
   "version": "3.12.3"
  }
 },
 "nbformat": 4,
 "nbformat_minor": 2
}
