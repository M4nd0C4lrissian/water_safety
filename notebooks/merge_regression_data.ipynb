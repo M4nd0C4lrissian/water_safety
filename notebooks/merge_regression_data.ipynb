{
 "cells": [
  {
   "cell_type": "markdown",
   "metadata": {},
   "source": [
    "Merging the e.coli and weather data "
   ]
  },
  {
   "cell_type": "markdown",
   "metadata": {},
   "source": [
    "Loading the data"
   ]
  },
  {
   "cell_type": "code",
   "execution_count": 20,
   "metadata": {},
   "outputs": [
    {
     "name": "stdout",
     "output_type": "stream",
     "text": [
      "(1671, 6)\n",
      "(78900, 10)\n"
     ]
    }
   ],
   "source": [
    "import pandas as pd\n",
    "\n",
    "# Load data\n",
    "beach_data = pd.read_parquet(\"..\\\\data\\\\cleaned\\\\cleaned_hanlans_point_beach.parquet\")\n",
    "weather_data = pd.read_parquet(\"..\\\\data\\\\cleaned\\\\cleaned_toronto_city.parquet\")\n",
    "\n",
    "print(beach_data.shape)\n",
    "print(weather_data.shape)\n",
    "\n"
   ]
  },
  {
   "cell_type": "markdown",
   "metadata": {},
   "source": [
    "Align data while keeping enough for lagged variables"
   ]
  },
  {
   "cell_type": "code",
   "execution_count": 21,
   "metadata": {},
   "outputs": [
    {
     "name": "stdout",
     "output_type": "stream",
     "text": [
      "start date = 2008-08-16 00:00:00\n",
      "end date = 2024-09-07 00:00:00\n",
      "(70404, 10)\n"
     ]
    }
   ],
   "source": [
    "# Get relevant date range from beach_data\n",
    "srt_date = beach_data['CollectionDate'].min() - pd.Timedelta(days=7) # Keep 7 days prior to start beach_data for lagged variables\n",
    "end_date = beach_data['CollectionDate'].max()\n",
    "\n",
    "print(f\"start date = {srt_date}\")\n",
    "print(f\"end date = {end_date}\")\n",
    "\n",
    "btwn_srt_end_dates = (weather_data['Date/Time'] >= srt_date) & (weather_data['Date/Time'] <= end_date)\n",
    "weather_data_filtered = weather_data.loc[btwn_srt_end_dates]\n",
    "\n",
    "print(weather_data_filtered.shape)"
   ]
  },
  {
   "cell_type": "markdown",
   "metadata": {},
   "source": [
    "Merge data"
   ]
  },
  {
   "cell_type": "code",
   "execution_count": 19,
   "metadata": {},
   "outputs": [
    {
     "name": "stdout",
     "output_type": "stream",
     "text": [
      "<class 'pandas.core.frame.DataFrame'>\n",
      "Index: 703 entries, 120 to 1670\n",
      "Data columns (total 16 columns):\n",
      " #   Column                  Non-Null Count  Dtype         \n",
      "---  ------                  --------------  -----         \n",
      " 0   CollectionDate          703 non-null    datetime64[ns]\n",
      " 1   beachId                 703 non-null    float64       \n",
      " 2   beachName               703 non-null    object        \n",
      " 3   eColi                   665 non-null    float64       \n",
      " 4   advisory                703 non-null    object        \n",
      " 5   statusFlag              703 non-null    object        \n",
      " 6   Station Name            703 non-null    object        \n",
      " 7   Date/Time               703 non-null    datetime64[ns]\n",
      " 8   Max Temp (°C)           703 non-null    float64       \n",
      " 9   Min Temp (°C)           703 non-null    float64       \n",
      " 10  Mean Temp (°C)          703 non-null    float64       \n",
      " 11  Heat Deg Days (°C)      703 non-null    float64       \n",
      " 12  Cool Deg Days (°C)      703 non-null    float64       \n",
      " 13  Total Rain (mm)         0 non-null      float64       \n",
      " 14  Total Precip (mm)       694 non-null    float64       \n",
      " 15  Spd of Max Gust (km/h)  0 non-null      float64       \n",
      "dtypes: datetime64[ns](2), float64(10), object(4)\n",
      "memory usage: 93.4+ KB\n"
     ]
    }
   ],
   "source": [
    "merged = beach_data.merge(\n",
    "    weather_data,\n",
    "    how=\"inner\",\n",
    "    left_index=True,\n",
    "    right_index=True\n",
    ")\n",
    "\n",
    "merged.info()"
   ]
  }
 ],
 "metadata": {
  "kernelspec": {
   "display_name": "base",
   "language": "python",
   "name": "python3"
  },
  "language_info": {
   "codemirror_mode": {
    "name": "ipython",
    "version": 3
   },
   "file_extension": ".py",
   "mimetype": "text/x-python",
   "name": "python",
   "nbconvert_exporter": "python",
   "pygments_lexer": "ipython3",
   "version": "3.12.3"
  }
 },
 "nbformat": 4,
 "nbformat_minor": 2
}
