{
 "cells": [
  {
   "cell_type": "markdown",
   "metadata": {},
   "source": [
    "Merging the e.coli and weather data "
   ]
  },
  {
   "cell_type": "markdown",
   "metadata": {},
   "source": [
    "Loading the data"
   ]
  },
  {
   "cell_type": "code",
   "execution_count": 63,
   "metadata": {},
   "outputs": [
    {
     "name": "stdout",
     "output_type": "stream",
     "text": [
      "beach data shape: (1567, 5)\n",
      "beach data col. names: ['beach_id', 'beach_name', 'e_coli_cfu', 'water_quality_advisory', 'safety_status']\n",
      "weather data shape: (6575, 2)\n",
      "weather data col. names: ['station_name', 'precip_mm']\n",
      "date\n",
      "2008-08-23     10.0\n",
      "2008-08-24     10.0\n",
      "2008-08-25     70.0\n",
      "2008-08-26    159.0\n",
      "2008-08-27     23.0\n",
      "Name: e_coli_cfu, dtype: float64\n",
      "            station_name  precip_mm\n",
      "date                               \n",
      "2007-01-01  TORONTO CITY        0.0\n",
      "2007-01-02  TORONTO CITY        0.0\n",
      "2007-01-03  TORONTO CITY        0.0\n",
      "2007-01-04  TORONTO CITY        3.2\n",
      "2007-01-05  TORONTO CITY        6.4\n"
     ]
    }
   ],
   "source": [
    "import pandas as pd\n",
    "\n",
    "# Load data\n",
    "beach_data = pd.read_parquet(\"..\\\\data\\\\cleaned\\\\cleaned_hanlans_point_beach.parquet\")\n",
    "weather_data = pd.read_parquet(\"..\\\\data\\\\cleaned\\\\cleaned_toronto_city.parquet\")\n",
    "\n",
    "print(f\"beach data shape: {beach_data.shape}\")\n",
    "print(f\"beach data col. names: {beach_data.columns.to_list()}\")\n",
    "\n",
    "print(f\"weather data shape: {weather_data.shape}\")\n",
    "print(f\"weather data col. names: {weather_data.columns.to_list()}\")\n",
    "\n",
    "print(beach_data['e_coli_cfu'].head(5))\n",
    "print(weather_data.head(5))\n"
   ]
  },
  {
   "cell_type": "markdown",
   "metadata": {},
   "source": [
    "Split beach data by year"
   ]
  },
  {
   "cell_type": "code",
   "execution_count": 64,
   "metadata": {},
   "outputs": [
    {
     "name": "stdout",
     "output_type": "stream",
     "text": [
      "dict_keys([2008, 2009, 2010, 2011, 2012, 2013, 2014, 2015, 2016, 2017, 2018, 2019, 2020, 2021, 2022, 2023, 2024])\n",
      "            beach_id            beach_name  e_coli_cfu  \\\n",
      "date                                                     \n",
      "2009-05-31       3.0  Hanlan's Point Beach        10.0   \n",
      "2009-06-01       3.0  Hanlan's Point Beach        10.0   \n",
      "2009-06-02       3.0  Hanlan's Point Beach        11.0   \n",
      "2009-06-03       3.0  Hanlan's Point Beach        11.0   \n",
      "\n",
      "                                       water_quality_advisory safety_status  \n",
      "date                                                                         \n",
      "2009-05-31  Beach safe. E.coli levels at or below 100 per ...          SAFE  \n",
      "2009-06-01  Beach safe. E.coli levels at or below 100 per ...          SAFE  \n",
      "2009-06-02  Beach safe. E.coli levels at or below 100 per ...          SAFE  \n",
      "2009-06-03  Beach safe. E.coli levels at or below 100 per ...          SAFE  \n"
     ]
    }
   ],
   "source": [
    "annual_beach = {\n",
    "    year: group \n",
    "    for year, group in beach_data.groupby(beach_data.index.year)\n",
    "}\n",
    "print(annual_beach.keys())\n",
    "print(annual_beach[2009].head(4))"
   ]
  },
  {
   "cell_type": "markdown",
   "metadata": {},
   "source": [
    "Align weather data with 7-day lookback "
   ]
  },
  {
   "cell_type": "code",
   "execution_count": 65,
   "metadata": {},
   "outputs": [
    {
     "name": "stdout",
     "output_type": "stream",
     "text": [
      "2008: Weather from 2008-08-16 to 2008-08-31 (16 rows)\n",
      "2009: Weather from 2009-05-24 to 2009-09-06 (106 rows)\n",
      "2010: Weather from 2010-05-23 to 2010-09-07 (108 rows)\n",
      "2011: Weather from 2011-05-05 to 2011-09-05 (124 rows)\n",
      "2012: Weather from 2012-05-15 to 2012-09-03 (112 rows)\n",
      "2013: Weather from 2013-05-14 to 2013-09-02 (112 rows)\n",
      "2014: Weather from 2014-05-13 to 2014-09-01 (112 rows)\n",
      "2015: Weather from 2015-05-12 to 2015-09-07 (119 rows)\n",
      "2016: Weather from 2016-05-17 to 2016-09-06 (113 rows)\n",
      "2017: Weather from 2017-05-16 to 2017-09-04 (112 rows)\n",
      "2018: Weather from 2018-05-15 to 2018-09-03 (112 rows)\n",
      "2019: Weather from 2019-05-14 to 2019-09-01 (111 rows)\n",
      "2020: Weather from 2020-06-09 to 2020-09-07 (91 rows)\n",
      "2021: Weather from 2021-05-18 to 2021-09-06 (112 rows)\n",
      "2022: Weather from 2022-05-17 to 2022-09-05 (112 rows)\n",
      "2023: Weather from 2023-05-16 to 2023-09-10 (118 rows)\n",
      "2024: Weather from 2024-05-14 to 2024-09-02 (112 rows)\n"
     ]
    }
   ],
   "source": [
    "annual_weather = {}\n",
    "for year, beach_df in annual_beach.items():\n",
    "    # Get date range from beach data index\n",
    "    start_date = beach_df.index.min() - pd.Timedelta(days=7)  # 7-day lookback\n",
    "    end_date = beach_df.index.max()\n",
    "    \n",
    "    # Filter weather data (assuming it also has DateTimeIndex)\n",
    "    weather_mask = (weather_data.index >= start_date) & (weather_data.index <= end_date)\n",
    "    annual_weather[year] = weather_data.loc[weather_mask].copy()\n",
    "    \n",
    "    print(f\"{year}: Weather from {start_date.date()} to {end_date.date()} ({len(annual_weather[year])} rows)\")"
   ]
  },
  {
   "cell_type": "markdown",
   "metadata": {},
   "source": [
    "Merge data"
   ]
  },
  {
   "cell_type": "code",
   "execution_count": 68,
   "metadata": {},
   "outputs": [
    {
     "name": "stdout",
     "output_type": "stream",
     "text": [
      "2008: 9 rows\n",
      "2009: 96 rows\n",
      "2010: 96 rows\n",
      "2011: 100 rows\n",
      "2012: 98 rows\n",
      "2013: 97 rows\n",
      "2014: 101 rows\n",
      "2015: 110 rows\n",
      "2016: 106 rows\n",
      "2017: 103 rows\n",
      "2018: 103 rows\n",
      "2019: 98 rows\n",
      "2020: 66 rows\n",
      "2021: 85 rows\n",
      "2022: 99 rows\n",
      "2023: 105 rows\n",
      "2024: 95 rows\n"
     ]
    }
   ],
   "source": [
    "annual_merged = {}\n",
    "for year in annual_beach.keys():\n",
    "    # Merge on index (date)\n",
    "    merged = annual_beach[year].merge(\n",
    "        annual_weather[year],\n",
    "        left_index=True,\n",
    "        right_index=True,\n",
    "        how='left',\n",
    "        suffixes=('_beach', '_weather')\n",
    "    )\n",
    "    \n",
    "    # Add lagged weather features\n",
    "    for lag in [1,2,3,5,7]:\n",
    "        merged[f'precip_lag_{lag}d'] = merged['precip_mm'].shift(lag)\n",
    "    \n",
    "    annual_merged[year] = merged.dropna(subset=['e_coli_cfu', 'precip_lag_7d'])\n",
    "    print(f\"{year}: {len(merged)} rows\")"
   ]
  },
  {
   "cell_type": "code",
   "execution_count": 69,
   "metadata": {},
   "outputs": [
    {
     "data": {
      "text/html": [
       "<div>\n",
       "<style scoped>\n",
       "    .dataframe tbody tr th:only-of-type {\n",
       "        vertical-align: middle;\n",
       "    }\n",
       "\n",
       "    .dataframe tbody tr th {\n",
       "        vertical-align: top;\n",
       "    }\n",
       "\n",
       "    .dataframe thead th {\n",
       "        text-align: right;\n",
       "    }\n",
       "</style>\n",
       "<table border=\"1\" class=\"dataframe\">\n",
       "  <thead>\n",
       "    <tr style=\"text-align: right;\">\n",
       "      <th></th>\n",
       "      <th>beach_id</th>\n",
       "      <th>beach_name</th>\n",
       "      <th>e_coli_cfu</th>\n",
       "      <th>water_quality_advisory</th>\n",
       "      <th>safety_status</th>\n",
       "      <th>station_name</th>\n",
       "      <th>precip_mm</th>\n",
       "      <th>precip_lag_1d</th>\n",
       "      <th>precip_lag_2d</th>\n",
       "      <th>precip_lag_3d</th>\n",
       "      <th>precip_lag_5d</th>\n",
       "      <th>precip_lag_7d</th>\n",
       "    </tr>\n",
       "    <tr>\n",
       "      <th>date</th>\n",
       "      <th></th>\n",
       "      <th></th>\n",
       "      <th></th>\n",
       "      <th></th>\n",
       "      <th></th>\n",
       "      <th></th>\n",
       "      <th></th>\n",
       "      <th></th>\n",
       "      <th></th>\n",
       "      <th></th>\n",
       "      <th></th>\n",
       "      <th></th>\n",
       "    </tr>\n",
       "  </thead>\n",
       "  <tbody>\n",
       "    <tr>\n",
       "      <th>2009-06-07</th>\n",
       "      <td>3.0</td>\n",
       "      <td>Hanlan's Point Beach</td>\n",
       "      <td>10.0</td>\n",
       "      <td>Beach safe. E.coli levels at or below 100 per ...</td>\n",
       "      <td>SAFE</td>\n",
       "      <td>TORONTO CITY</td>\n",
       "      <td>0.0</td>\n",
       "      <td>0.0</td>\n",
       "      <td>0.0</td>\n",
       "      <td>0.0</td>\n",
       "      <td>0.0</td>\n",
       "      <td>0.0</td>\n",
       "    </tr>\n",
       "    <tr>\n",
       "      <th>2009-06-08</th>\n",
       "      <td>3.0</td>\n",
       "      <td>Hanlan's Point Beach</td>\n",
       "      <td>73.0</td>\n",
       "      <td>Beach safe. E.coli levels at or below 100 per ...</td>\n",
       "      <td>SAFE</td>\n",
       "      <td>TORONTO CITY</td>\n",
       "      <td>8.0</td>\n",
       "      <td>0.0</td>\n",
       "      <td>0.0</td>\n",
       "      <td>0.0</td>\n",
       "      <td>0.0</td>\n",
       "      <td>0.0</td>\n",
       "    </tr>\n",
       "    <tr>\n",
       "      <th>2009-06-09</th>\n",
       "      <td>3.0</td>\n",
       "      <td>Hanlan's Point Beach</td>\n",
       "      <td>84.0</td>\n",
       "      <td>Beach safe. E.coli levels at or below 100 per ...</td>\n",
       "      <td>SAFE</td>\n",
       "      <td>TORONTO CITY</td>\n",
       "      <td>0.0</td>\n",
       "      <td>8.0</td>\n",
       "      <td>0.0</td>\n",
       "      <td>0.0</td>\n",
       "      <td>0.0</td>\n",
       "      <td>0.0</td>\n",
       "    </tr>\n",
       "    <tr>\n",
       "      <th>2009-06-10</th>\n",
       "      <td>3.0</td>\n",
       "      <td>Hanlan's Point Beach</td>\n",
       "      <td>24.0</td>\n",
       "      <td>Beach safe. E.coli levels at or below 100 per ...</td>\n",
       "      <td>SAFE</td>\n",
       "      <td>TORONTO CITY</td>\n",
       "      <td>0.0</td>\n",
       "      <td>0.0</td>\n",
       "      <td>8.0</td>\n",
       "      <td>0.0</td>\n",
       "      <td>0.0</td>\n",
       "      <td>0.0</td>\n",
       "    </tr>\n",
       "    <tr>\n",
       "      <th>2009-06-11</th>\n",
       "      <td>3.0</td>\n",
       "      <td>Hanlan's Point Beach</td>\n",
       "      <td>20.0</td>\n",
       "      <td>Beach safe. E.coli levels at or below 100 per ...</td>\n",
       "      <td>SAFE</td>\n",
       "      <td>TORONTO CITY</td>\n",
       "      <td>2.6</td>\n",
       "      <td>0.0</td>\n",
       "      <td>0.0</td>\n",
       "      <td>8.0</td>\n",
       "      <td>0.0</td>\n",
       "      <td>0.0</td>\n",
       "    </tr>\n",
       "  </tbody>\n",
       "</table>\n",
       "</div>"
      ],
      "text/plain": [
       "            beach_id            beach_name  e_coli_cfu  \\\n",
       "date                                                     \n",
       "2009-06-07       3.0  Hanlan's Point Beach        10.0   \n",
       "2009-06-08       3.0  Hanlan's Point Beach        73.0   \n",
       "2009-06-09       3.0  Hanlan's Point Beach        84.0   \n",
       "2009-06-10       3.0  Hanlan's Point Beach        24.0   \n",
       "2009-06-11       3.0  Hanlan's Point Beach        20.0   \n",
       "\n",
       "                                       water_quality_advisory safety_status  \\\n",
       "date                                                                          \n",
       "2009-06-07  Beach safe. E.coli levels at or below 100 per ...          SAFE   \n",
       "2009-06-08  Beach safe. E.coli levels at or below 100 per ...          SAFE   \n",
       "2009-06-09  Beach safe. E.coli levels at or below 100 per ...          SAFE   \n",
       "2009-06-10  Beach safe. E.coli levels at or below 100 per ...          SAFE   \n",
       "2009-06-11  Beach safe. E.coli levels at or below 100 per ...          SAFE   \n",
       "\n",
       "            station_name  precip_mm  precip_lag_1d  precip_lag_2d  \\\n",
       "date                                                                \n",
       "2009-06-07  TORONTO CITY        0.0            0.0            0.0   \n",
       "2009-06-08  TORONTO CITY        8.0            0.0            0.0   \n",
       "2009-06-09  TORONTO CITY        0.0            8.0            0.0   \n",
       "2009-06-10  TORONTO CITY        0.0            0.0            8.0   \n",
       "2009-06-11  TORONTO CITY        2.6            0.0            0.0   \n",
       "\n",
       "            precip_lag_3d  precip_lag_5d  precip_lag_7d  \n",
       "date                                                     \n",
       "2009-06-07            0.0            0.0            0.0  \n",
       "2009-06-08            0.0            0.0            0.0  \n",
       "2009-06-09            0.0            0.0            0.0  \n",
       "2009-06-10            0.0            0.0            0.0  \n",
       "2009-06-11            8.0            0.0            0.0  "
      ]
     },
     "execution_count": 69,
     "metadata": {},
     "output_type": "execute_result"
    }
   ],
   "source": [
    "annual_merged[2009].head()"
   ]
  },
  {
   "cell_type": "markdown",
   "metadata": {},
   "source": [
    "Write merged data to file"
   ]
  },
  {
   "cell_type": "code",
   "execution_count": 71,
   "metadata": {},
   "outputs": [],
   "source": [
    "for year, df in annual_merged.items():\n",
    "    df.to_parquet(f\"../data/merged/merged_{year}.parquet\")"
   ]
  }
 ],
 "metadata": {
  "kernelspec": {
   "display_name": "base",
   "language": "python",
   "name": "python3"
  },
  "language_info": {
   "codemirror_mode": {
    "name": "ipython",
    "version": 3
   },
   "file_extension": ".py",
   "mimetype": "text/x-python",
   "name": "python",
   "nbconvert_exporter": "python",
   "pygments_lexer": "ipython3",
   "version": "3.12.3"
  }
 },
 "nbformat": 4,
 "nbformat_minor": 2
}
