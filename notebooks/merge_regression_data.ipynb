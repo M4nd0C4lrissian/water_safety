{
 "cells": [
  {
   "cell_type": "markdown",
   "metadata": {},
   "source": [
    "Merging the e.coli and weather data "
   ]
  },
  {
   "cell_type": "markdown",
   "metadata": {},
   "source": [
    "Loading the data"
   ]
  },
  {
   "cell_type": "code",
   "execution_count": 39,
   "metadata": {},
   "outputs": [
    {
     "name": "stdout",
     "output_type": "stream",
     "text": [
      "beach data shape: (1567, 5)\n",
      "beach data col. names: ['beach_id', 'beach_name', 'e_coli_cfu', 'water_quality_advisory', 'safety_status']\n",
      "weather data shape: (6423, 3)\n",
      "weather data col. names: ['station_name', 'precip_mm', 'date']\n",
      "date\n",
      "2008-08-23     10.0\n",
      "2008-08-24     10.0\n",
      "2008-08-25     70.0\n",
      "2008-08-26    159.0\n",
      "2008-08-27     23.0\n",
      "Name: e_coli_cfu, dtype: float64\n",
      "            station_name  precip_mm       date\n",
      "Date/Time                                     \n",
      "2007-01-01  TORONTO CITY        0.0 2007-01-01\n",
      "2007-01-02  TORONTO CITY        0.0 2007-01-02\n",
      "2007-01-03  TORONTO CITY        0.0 2007-01-03\n",
      "2007-01-04  TORONTO CITY        3.2 2007-01-04\n",
      "2007-01-05  TORONTO CITY        6.4 2007-01-05\n"
     ]
    }
   ],
   "source": [
    "import pandas as pd\n",
    "\n",
    "# Load data\n",
    "beach_data = pd.read_parquet(\"..\\\\data\\\\cleaned\\\\cleaned_hanlans_point_beach.parquet\")\n",
    "weather_data = pd.read_parquet(\"..\\\\data\\\\cleaned\\\\cleaned_toronto_city.parquet\")\n",
    "\n",
    "print(f\"beach data shape: {beach_data.shape}\")\n",
    "print(f\"beach data col. names: {beach_data.columns.to_list()}\")\n",
    "\n",
    "print(f\"weather data shape: {weather_data.shape}\")\n",
    "print(f\"weather data col. names: {weather_data.columns.to_list()}\")\n",
    "\n",
    "print(beach_data['e_coli_cfu'].head(5))\n",
    "print(weather_data.head(5))\n"
   ]
  },
  {
   "cell_type": "markdown",
   "metadata": {},
   "source": [
    "Split beach data by year"
   ]
  },
  {
   "cell_type": "code",
   "execution_count": 35,
   "metadata": {},
   "outputs": [
    {
     "ename": "KeyError",
     "evalue": "'date'",
     "output_type": "error",
     "traceback": [
      "\u001b[1;31m---------------------------------------------------------------------------\u001b[0m",
      "\u001b[1;31mKeyError\u001b[0m                                  Traceback (most recent call last)",
      "File \u001b[1;32mc:\\Users\\olimoon\\anaconda3\\Lib\\site-packages\\pandas\\core\\indexes\\base.py:3805\u001b[0m, in \u001b[0;36mIndex.get_loc\u001b[1;34m(self, key)\u001b[0m\n\u001b[0;32m   3804\u001b[0m \u001b[38;5;28;01mtry\u001b[39;00m:\n\u001b[1;32m-> 3805\u001b[0m     \u001b[38;5;28;01mreturn\u001b[39;00m \u001b[38;5;28;43mself\u001b[39;49m\u001b[38;5;241;43m.\u001b[39;49m\u001b[43m_engine\u001b[49m\u001b[38;5;241;43m.\u001b[39;49m\u001b[43mget_loc\u001b[49m\u001b[43m(\u001b[49m\u001b[43mcasted_key\u001b[49m\u001b[43m)\u001b[49m\n\u001b[0;32m   3806\u001b[0m \u001b[38;5;28;01mexcept\u001b[39;00m \u001b[38;5;167;01mKeyError\u001b[39;00m \u001b[38;5;28;01mas\u001b[39;00m err:\n",
      "File \u001b[1;32mindex.pyx:167\u001b[0m, in \u001b[0;36mpandas._libs.index.IndexEngine.get_loc\u001b[1;34m()\u001b[0m\n",
      "File \u001b[1;32mindex.pyx:196\u001b[0m, in \u001b[0;36mpandas._libs.index.IndexEngine.get_loc\u001b[1;34m()\u001b[0m\n",
      "File \u001b[1;32mpandas\\\\_libs\\\\hashtable_class_helper.pxi:7081\u001b[0m, in \u001b[0;36mpandas._libs.hashtable.PyObjectHashTable.get_item\u001b[1;34m()\u001b[0m\n",
      "File \u001b[1;32mpandas\\\\_libs\\\\hashtable_class_helper.pxi:7089\u001b[0m, in \u001b[0;36mpandas._libs.hashtable.PyObjectHashTable.get_item\u001b[1;34m()\u001b[0m\n",
      "\u001b[1;31mKeyError\u001b[0m: 'date'",
      "\nThe above exception was the direct cause of the following exception:\n",
      "\u001b[1;31mKeyError\u001b[0m                                  Traceback (most recent call last)",
      "Cell \u001b[1;32mIn[35], line 1\u001b[0m\n\u001b[1;32m----> 1\u001b[0m annual_beach \u001b[38;5;241m=\u001b[39m {year: group \u001b[38;5;28;01mfor\u001b[39;00m year, group \u001b[38;5;129;01min\u001b[39;00m beach_data\u001b[38;5;241m.\u001b[39mgroupby(\u001b[43mbeach_data\u001b[49m\u001b[43m[\u001b[49m\u001b[38;5;124;43m'\u001b[39;49m\u001b[38;5;124;43mdate\u001b[39;49m\u001b[38;5;124;43m'\u001b[39;49m\u001b[43m]\u001b[49m\u001b[38;5;241m.\u001b[39mdt\u001b[38;5;241m.\u001b[39myear)}\n\u001b[0;32m      3\u001b[0m \u001b[38;5;28mprint\u001b[39m(annual_beach\u001b[38;5;241m.\u001b[39mkeys())\n\u001b[0;32m      4\u001b[0m \u001b[38;5;28mprint\u001b[39m(annual_beach[\u001b[38;5;241m2009\u001b[39m])\n",
      "File \u001b[1;32mc:\\Users\\olimoon\\anaconda3\\Lib\\site-packages\\pandas\\core\\frame.py:4102\u001b[0m, in \u001b[0;36mDataFrame.__getitem__\u001b[1;34m(self, key)\u001b[0m\n\u001b[0;32m   4100\u001b[0m \u001b[38;5;28;01mif\u001b[39;00m \u001b[38;5;28mself\u001b[39m\u001b[38;5;241m.\u001b[39mcolumns\u001b[38;5;241m.\u001b[39mnlevels \u001b[38;5;241m>\u001b[39m \u001b[38;5;241m1\u001b[39m:\n\u001b[0;32m   4101\u001b[0m     \u001b[38;5;28;01mreturn\u001b[39;00m \u001b[38;5;28mself\u001b[39m\u001b[38;5;241m.\u001b[39m_getitem_multilevel(key)\n\u001b[1;32m-> 4102\u001b[0m indexer \u001b[38;5;241m=\u001b[39m \u001b[38;5;28;43mself\u001b[39;49m\u001b[38;5;241;43m.\u001b[39;49m\u001b[43mcolumns\u001b[49m\u001b[38;5;241;43m.\u001b[39;49m\u001b[43mget_loc\u001b[49m\u001b[43m(\u001b[49m\u001b[43mkey\u001b[49m\u001b[43m)\u001b[49m\n\u001b[0;32m   4103\u001b[0m \u001b[38;5;28;01mif\u001b[39;00m is_integer(indexer):\n\u001b[0;32m   4104\u001b[0m     indexer \u001b[38;5;241m=\u001b[39m [indexer]\n",
      "File \u001b[1;32mc:\\Users\\olimoon\\anaconda3\\Lib\\site-packages\\pandas\\core\\indexes\\base.py:3812\u001b[0m, in \u001b[0;36mIndex.get_loc\u001b[1;34m(self, key)\u001b[0m\n\u001b[0;32m   3807\u001b[0m     \u001b[38;5;28;01mif\u001b[39;00m \u001b[38;5;28misinstance\u001b[39m(casted_key, \u001b[38;5;28mslice\u001b[39m) \u001b[38;5;129;01mor\u001b[39;00m (\n\u001b[0;32m   3808\u001b[0m         \u001b[38;5;28misinstance\u001b[39m(casted_key, abc\u001b[38;5;241m.\u001b[39mIterable)\n\u001b[0;32m   3809\u001b[0m         \u001b[38;5;129;01mand\u001b[39;00m \u001b[38;5;28many\u001b[39m(\u001b[38;5;28misinstance\u001b[39m(x, \u001b[38;5;28mslice\u001b[39m) \u001b[38;5;28;01mfor\u001b[39;00m x \u001b[38;5;129;01min\u001b[39;00m casted_key)\n\u001b[0;32m   3810\u001b[0m     ):\n\u001b[0;32m   3811\u001b[0m         \u001b[38;5;28;01mraise\u001b[39;00m InvalidIndexError(key)\n\u001b[1;32m-> 3812\u001b[0m     \u001b[38;5;28;01mraise\u001b[39;00m \u001b[38;5;167;01mKeyError\u001b[39;00m(key) \u001b[38;5;28;01mfrom\u001b[39;00m \u001b[38;5;21;01merr\u001b[39;00m\n\u001b[0;32m   3813\u001b[0m \u001b[38;5;28;01mexcept\u001b[39;00m \u001b[38;5;167;01mTypeError\u001b[39;00m:\n\u001b[0;32m   3814\u001b[0m     \u001b[38;5;66;03m# If we have a listlike key, _check_indexing_error will raise\u001b[39;00m\n\u001b[0;32m   3815\u001b[0m     \u001b[38;5;66;03m#  InvalidIndexError. Otherwise we fall through and re-raise\u001b[39;00m\n\u001b[0;32m   3816\u001b[0m     \u001b[38;5;66;03m#  the TypeError.\u001b[39;00m\n\u001b[0;32m   3817\u001b[0m     \u001b[38;5;28mself\u001b[39m\u001b[38;5;241m.\u001b[39m_check_indexing_error(key)\n",
      "\u001b[1;31mKeyError\u001b[0m: 'date'"
     ]
    }
   ],
   "source": [
    "annual_beach = {year: group for year, group in beach_data.groupby(beach_data['date'].dt.year)}\n",
    "\n",
    "print(annual_beach.keys())\n",
    "print(annual_beach[2009])"
   ]
  },
  {
   "cell_type": "markdown",
   "metadata": {},
   "source": [
    "Align weather data with 7-day lookback "
   ]
  },
  {
   "cell_type": "code",
   "execution_count": 22,
   "metadata": {},
   "outputs": [
    {
     "name": "stdout",
     "output_type": "stream",
     "text": [
      "2008: Weather from 2008-08-16 to 2008-08-31 (16 rows)\n",
      "2009: Weather from 2009-05-24 to 2009-09-06 (106 rows)\n",
      "2010: Weather from 2010-05-23 to 2010-09-07 (108 rows)\n",
      "2011: Weather from 2011-05-05 to 2011-09-05 (124 rows)\n",
      "2012: Weather from 2012-05-15 to 2012-09-03 (110 rows)\n",
      "2013: Weather from 2013-05-14 to 2013-09-02 (110 rows)\n",
      "2014: Weather from 2014-05-13 to 2014-09-01 (105 rows)\n",
      "2015: Weather from 2015-05-12 to 2015-09-07 (116 rows)\n",
      "2016: Weather from 2016-05-17 to 2016-09-06 (110 rows)\n",
      "2017: Weather from 2017-05-16 to 2017-09-04 (102 rows)\n",
      "2018: Weather from 2018-05-15 to 2018-09-03 (105 rows)\n",
      "2019: Weather from 2019-05-14 to 2019-09-01 (110 rows)\n",
      "2020: Weather from 2020-06-09 to 2020-09-07 (90 rows)\n",
      "2021: Weather from 2021-05-18 to 2021-09-06 (111 rows)\n",
      "2022: Weather from 2022-05-17 to 2022-09-05 (112 rows)\n",
      "2023: Weather from 2023-05-16 to 2023-09-10 (118 rows)\n",
      "2024: Weather from 2024-05-14 to 2024-09-02 (110 rows)\n"
     ]
    }
   ],
   "source": [
    "annual_weather = {}\n",
    "for year, beach_df in annual_beach.items():\n",
    "    # Calculate lookback window for THIS YEAR\n",
    "    start_date = beach_df['date'].min() - pd.Timedelta(days=7)  # 7-day lookback\n",
    "    end_date = beach_df['date'].max()\n",
    "    \n",
    "    # Filter weather data\n",
    "    mask = (weather_data['date'] >= start_date) & (weather_data['date'] <= end_date)\n",
    "    annual_weather[year] = weather_data.loc[mask].copy()\n",
    "    \n",
    "    print(f\"{year}: Weather from {start_date.date()} to {end_date.date()} ({len(annual_weather[year])} rows)\")"
   ]
  },
  {
   "cell_type": "markdown",
   "metadata": {},
   "source": [
    "Merge data"
   ]
  },
  {
   "cell_type": "code",
   "execution_count": null,
   "metadata": {},
   "outputs": [],
   "source": [
    "merged = beach_data.merge(\n",
    "    weather_data,\n",
    "    how=\"inner\",\n",
    "    left_index=True,\n",
    "    right_index=True\n",
    ")\n",
    "\n",
    "merged.info()"
   ]
  }
 ],
 "metadata": {
  "kernelspec": {
   "display_name": "base",
   "language": "python",
   "name": "python3"
  },
  "language_info": {
   "codemirror_mode": {
    "name": "ipython",
    "version": 3
   },
   "file_extension": ".py",
   "mimetype": "text/x-python",
   "name": "python",
   "nbconvert_exporter": "python",
   "pygments_lexer": "ipython3",
   "version": "3.12.3"
  }
 },
 "nbformat": 4,
 "nbformat_minor": 2
}
