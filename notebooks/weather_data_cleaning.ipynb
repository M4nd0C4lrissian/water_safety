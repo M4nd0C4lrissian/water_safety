{
 "cells": [
  {
   "cell_type": "markdown",
   "metadata": {},
   "source": [
    "# Data import and feature selection"
   ]
  },
  {
   "cell_type": "markdown",
   "metadata": {},
   "source": [
    "Import only datetime and precipitation"
   ]
  },
  {
   "cell_type": "code",
   "execution_count": 90,
   "metadata": {},
   "outputs": [
    {
     "name": "stdout",
     "output_type": "stream",
     "text": [
      "Cleaned data: 6575 rows (72325 duplicates removed)\n"
     ]
    }
   ],
   "source": [
    "import pandas as pd\n",
    "\n",
    "# Load data while preserving raw strings\n",
    "weather_data = pd.read_csv(\n",
    "    \"../data/raw/weather_data/climate_data/daily/31688.csv\",\n",
    "    usecols=['Station Name', 'Date/Time', 'Total Precip (mm)'],\n",
    "    dtype={'Date/Time': str}  # Critical for accurate duplicate detection\n",
    ")\n",
    "\n",
    "# Clean date strings (remove hidden characters/timezones)\n",
    "weather_data['Date/Time'] = (\n",
    "    weather_data['Date/Time']\n",
    "    .str.strip()  # Remove whitespace\n",
    "    .str[:10]     # Keep only YYYY-MM-DD (ignore time/timezone if present)\n",
    ")\n",
    "\n",
    "# Remove TRUE duplicates (same station + same date)\n",
    "weather_clean = (\n",
    "    weather_data\n",
    "    .drop_duplicates(['Station Name', 'Date/Time'], keep='first')\n",
    "    .sort_values(['Station Name', 'Date/Time'])\n",
    ")\n",
    "\n",
    "# Convert to datetime AFTER deduplication\n",
    "weather_clean['date'] = pd.to_datetime(weather_clean['Date/Time'], errors='coerce')\n",
    "\n",
    "# Final validation\n",
    "assert weather_clean.duplicated(['Station Name', 'date']).sum() == 0\n",
    "print(f\"Cleaned data: {len(weather_clean)} rows ({len(weather_data)-len(weather_clean)} duplicates removed)\")"
   ]
  },
  {
   "cell_type": "markdown",
   "metadata": {},
   "source": [
    "Check for duplicates"
   ]
  },
  {
   "cell_type": "code",
   "execution_count": 91,
   "metadata": {},
   "outputs": [
    {
     "name": "stdout",
     "output_type": "stream",
     "text": [
      "Found 0 true duplicates:\n",
      "Empty DataFrame\n",
      "Columns: [Station Name, Date/Time, Total Precip (mm), date]\n",
      "Index: []\n",
      "Found 0 date/time duplicates:\n",
      "Empty DataFrame\n",
      "Columns: [Station Name, Date/Time, Total Precip (mm), date]\n",
      "Index: []\n"
     ]
    }
   ],
   "source": [
    "# Identify TRUE duplicates (same station + same timestamp)\n",
    "dupes = weather_clean.duplicated(subset=['Station Name', 'Date/Time'], keep=False)\n",
    "print(f\"Found {dupes.sum()} true duplicates:\")\n",
    "print(weather_clean[dupes].sort_values(['Station Name', 'Date/Time']).head(10))\n",
    "\n",
    "# Identify date/time duplucates\n",
    "dt_dupes = weather_clean.duplicated(subset=['Date/Time'], keep=False)\n",
    "print(f\"Found {dt_dupes.sum()} date/time duplicates:\")\n",
    "print(weather_clean[dt_dupes].sort_values(['Station Name', 'Date/Time']).head(10))"
   ]
  },
  {
   "cell_type": "markdown",
   "metadata": {},
   "source": [
    "Set date/time as index"
   ]
  },
  {
   "cell_type": "code",
   "execution_count": 93,
   "metadata": {},
   "outputs": [],
   "source": [
    "weather_clean = (\n",
    "    weather_clean.dropna(subset=['Date/Time'])\n",
    "    .set_index('Date/Time')\n",
    "    .sort_index()\n",
    ")"
   ]
  },
  {
   "cell_type": "markdown",
   "metadata": {},
   "source": [
    "Data Cleaning "
   ]
  },
  {
   "cell_type": "code",
   "execution_count": 95,
   "metadata": {},
   "outputs": [],
   "source": [
    "weather_clean.dropna(subset=[\"Total Precip (mm)\"], inplace=True)"
   ]
  },
  {
   "cell_type": "code",
   "execution_count": 96,
   "metadata": {},
   "outputs": [
    {
     "name": "stdout",
     "output_type": "stream",
     "text": [
      "<class 'pandas.core.frame.DataFrame'>\n",
      "Index: 6423 entries, 2007-01-01 to 2024-12-31\n",
      "Data columns (total 3 columns):\n",
      " #   Column             Non-Null Count  Dtype         \n",
      "---  ------             --------------  -----         \n",
      " 0   Station Name       6423 non-null   object        \n",
      " 1   Total Precip (mm)  6423 non-null   float64       \n",
      " 2   date               6423 non-null   datetime64[ns]\n",
      "dtypes: datetime64[ns](1), float64(1), object(1)\n",
      "memory usage: 200.7+ KB\n"
     ]
    }
   ],
   "source": [
    "weather_clean.info()\n"
   ]
  },
  {
   "cell_type": "markdown",
   "metadata": {},
   "source": [
    "Write to file"
   ]
  },
  {
   "cell_type": "code",
   "execution_count": 98,
   "metadata": {},
   "outputs": [
    {
     "name": "stdout",
     "output_type": "stream",
     "text": [
      "toronto_city\n"
     ]
    }
   ],
   "source": [
    "import re\n",
    "\n",
    "# Get and format beach name\n",
    "stn_name = weather_clean.iloc[0]['Station Name'] # Assuming only one beach name at a time \n",
    "stn_name = stn_name.lower().replace(\" \", \"_\")\n",
    "stn_name = re.sub(f'[^a-z0-9_]', \"\", stn_name)\n",
    "\n",
    "print(stn_name)\n",
    "# Write to file \n",
    "weather_clean.to_parquet(f\"..\\\\data\\\\cleaned\\\\cleaned_{stn_name}.parquet\")"
   ]
  },
  {
   "cell_type": "markdown",
   "metadata": {},
   "source": [
    "# Data Exploration"
   ]
  },
  {
   "cell_type": "markdown",
   "metadata": {},
   "source": [
    "Rainfall exploration"
   ]
  },
  {
   "cell_type": "code",
   "execution_count": null,
   "metadata": {},
   "outputs": [],
   "source": [
    "has_precip = weather_data['Total Precip (mm)'] > 0 # 11892 entries in Toronto City\n",
    "weather_data.loc[has_precip]"
   ]
  },
  {
   "cell_type": "markdown",
   "metadata": {},
   "source": [
    "Plot date vs. precipitation"
   ]
  },
  {
   "cell_type": "code",
   "execution_count": null,
   "metadata": {},
   "outputs": [],
   "source": [
    "for i in range(2008, 2025):\n",
    "    plt.figure(figsize=(10,5))\n",
    "    mask = weather_data['Date/Time'].dt.year == i\n",
    "    plt.scatter(weather_data['Date/Time'].loc[mask], weather_data['Total Precip (mm)'].loc[mask])\n",
    "    plt.xlabel('Date')\n",
    "    plt.ylabel('Precipitation (mm)')\n",
    "    plt.title(f'{i}')\n",
    "    plt.show()"
   ]
  },
  {
   "cell_type": "code",
   "execution_count": 5,
   "metadata": {},
   "outputs": [],
   "source": [
    "# Inspect ecoli anomaly "
   ]
  }
 ],
 "metadata": {
  "kernelspec": {
   "display_name": "base",
   "language": "python",
   "name": "python3"
  },
  "language_info": {
   "codemirror_mode": {
    "name": "ipython",
    "version": 3
   },
   "file_extension": ".py",
   "mimetype": "text/x-python",
   "name": "python",
   "nbconvert_exporter": "python",
   "pygments_lexer": "ipython3",
   "version": "3.12.3"
  }
 },
 "nbformat": 4,
 "nbformat_minor": 2
}
